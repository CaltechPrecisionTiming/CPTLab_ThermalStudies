{
 "cells": [
  {
   "cell_type": "code",
   "execution_count": 1,
   "metadata": {
    "ExecuteTime": {
     "end_time": "2020-01-28T02:37:14.924773Z",
     "start_time": "2020-01-28T02:37:14.353772Z"
    }
   },
   "outputs": [],
   "source": [
    "import numpy as np\n",
    "import matplotlib.pyplot as plt\n",
    "import yaml, sys\n",
    "import csv\n",
    "from resistors_utils import V2power"
   ]
  },
  {
   "cell_type": "code",
   "execution_count": 2,
   "metadata": {
    "ExecuteTime": {
     "end_time": "2020-01-28T02:37:14.935612Z",
     "start_time": "2020-01-28T02:37:14.929760Z"
    }
   },
   "outputs": [],
   "source": [
    "runsToPlot = [2,3,4]"
   ]
  },
  {
   "cell_type": "code",
   "execution_count": 5,
   "metadata": {
    "ExecuteTime": {
     "end_time": "2020-01-28T02:39:12.728008Z",
     "start_time": "2020-01-28T02:39:12.647442Z"
    }
   },
   "outputs": [],
   "source": [
    "samples = yaml.load(open('samples/runs.yml'), Loader=yaml.FullLoader)\n",
    "sysCond = yaml.load(open('samples/systemConditions.yml'), Loader=yaml.FullLoader)\n",
    "\n",
    "\n",
    "res = {}\n",
    "for r in runsToPlot:\n",
    "    run_name = 'run'+str(r)\n",
    "    dset = samples[run_name]\n",
    "    cond = sysCond[dset['conditions']]\n",
    "    support = cond['support']\n",
    "    if not support in res.keys():\n",
    "        res[support] = {'dTL': [], 'dTC': [], 'dTR': [], 'T':[]}\n",
    "    \n",
    "    csvname = 'results/'+run_name+'.txt'\n",
    "    csvfile = open(csvname, 'r')\n",
    "    reader = csv.DictReader(csvfile)\n",
    "    \n",
    "    for row in reader:\n",
    "        if row['# '] == 'Cooldiff':\n",
    "            res[support]['T'].append(dset['temp'])\n",
    "            res[support]['dTL'].append(float(row['pkg L']))\n",
    "            res[support]['dTC'].append(float(row['pkg C']))\n",
    "            res[support]['dTR'].append(float(row['pkg R border']))\n",
    "            break"
   ]
  },
  {
   "cell_type": "code",
   "execution_count": 12,
   "metadata": {
    "ExecuteTime": {
     "end_time": "2020-01-28T02:44:58.544224Z",
     "start_time": "2020-01-28T02:44:58.127346Z"
    }
   },
   "outputs": [
    {
     "data": {
      "image/png": "[encoded data removed]",
      "text/plain": [
       "<Figure size 576x432 with 1 Axes>"
      ]
     },
     "metadata": {
      "needs_background": "light"
     },
     "output_type": "display_data"
    }
   ],
   "source": [
    "plt.rcParams.update({'font.size': 18})\n",
    "fig = plt.figure(figsize=(8,6))\n",
    "colors = {'L':'1', 'C':'2', 'R':'3'}\n",
    "marker = ['o', '+', 'v', 'x']\n",
    "\n",
    "for i, (shape, dic) in enumerate(res.iteritems()):\n",
    "    for side in 'LCR':\n",
    "        plt.errorbar(np.array(dic['T']), dic['dT'+side], [0.1]*len(dic['T']), fmt=marker[i], color='C'+colors[side], label=side)\n",
    "\n",
    "plt.legend(loc='best')\n",
    "plt.xlabel(r'Coolant temp [$^\\circ$C]')\n",
    "plt.ylabel(r'$\\Delta T$ from pipe [K]')\n",
    "plt.grid(axis='x')\n",
    "plt.grid(axis='y')\n",
    "# plt.xlim(-0.5, 6)\n",
    "plt.title(r'$P_{SiPM}$ = 37.5 mW, old big L-shape')\n",
    "plt.tight_layout()\n",
    "plt.savefig('./fig/191210_temperatureDrift.png')"
   ]
  },
  {
   "cell_type": "code",
   "execution_count": null,
   "metadata": {},
   "outputs": [],
   "source": []
  }
 ],
 "metadata": {
  "kernelspec": {
   "display_name": "Python 2",
   "language": "python",
   "name": "python2"
  },
  "language_info": {
   "codemirror_mode": {
    "name": "ipython",
    "version": 2
   },
   "file_extension": ".py",
   "mimetype": "text/x-python",
   "name": "python",
   "nbconvert_exporter": "python",
   "pygments_lexer": "ipython2",
   "version": "2.7.15"
  }
 },
 "nbformat": 4,
 "nbformat_minor": 2
}
